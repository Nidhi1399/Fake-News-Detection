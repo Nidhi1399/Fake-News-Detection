{
  "nbformat": 4,
  "nbformat_minor": 0,
  "metadata": {
    "colab": {
      "name": "T&T_Project.ipynb",
      "provenance": []
    },
    "kernelspec": {
      "name": "python3",
      "display_name": "Python 3"
    },
    "language_info": {
      "name": "python"
    }
  },
  "cells": [
    {
      "cell_type": "code",
      "metadata": {
        "id": "dNCK0j_D1u5V"
      },
      "source": [
        "#Dataset from https://www.kaggle.com/clmentbisaillon/fake-and-real-news-dataset"
      ],
      "execution_count": null,
      "outputs": []
    },
    {
      "cell_type": "code",
      "metadata": {
        "id": "Opa4pwcIVTWR"
      },
      "source": [
        "import pandas as pd\n",
        "import numpy as np\n",
        "import matplotlib.pyplot as plt\n",
        "import seaborn as sns\n",
        "from sklearn.feature_extraction.text import CountVectorizer\n",
        "from sklearn.feature_extraction.text import TfidfTransformer\n",
        "from sklearn import linear_model, model_selection\n",
        "from sklearn.metrics import accuracy_score\n",
        "from sklearn.model_selection import train_test_split\n",
        "from sklearn.pipeline import Pipeline"
      ],
      "execution_count": 19,
      "outputs": []
    },
    {
      "cell_type": "markdown",
      "metadata": {
        "id": "WyFCm_SZV9BM"
      },
      "source": [
        "##Reading Datasets"
      ]
    },
    {
      "cell_type": "code",
      "metadata": {
        "id": "7uCx65sjV6_d"
      },
      "source": [
        "fake = pd.read_csv(\"/Fake.csv\")\n",
        "real = pd.read_csv(\"/Real.csv\")"
      ],
      "execution_count": 20,
      "outputs": []
    },
    {
      "cell_type": "code",
      "metadata": {
        "colab": {
          "base_uri": "https://localhost:8080/"
        },
        "id": "6aHOVFJ1WDkE",
        "outputId": "3b18b3f2-b219-4bae-fac1-5ff9f4032e47"
      },
      "source": [
        "fake.shape"
      ],
      "execution_count": 21,
      "outputs": [
        {
          "output_type": "execute_result",
          "data": {
            "text/plain": [
              "(23481, 4)"
            ]
          },
          "metadata": {
            "tags": []
          },
          "execution_count": 21
        }
      ]
    },
    {
      "cell_type": "code",
      "metadata": {
        "colab": {
          "base_uri": "https://localhost:8080/"
        },
        "id": "8Pj40K9zWFmp",
        "outputId": "b8aa7aaf-8768-4cce-b50e-8c9e1744202a"
      },
      "source": [
        "real.shape"
      ],
      "execution_count": 22,
      "outputs": [
        {
          "output_type": "execute_result",
          "data": {
            "text/plain": [
              "(21417, 4)"
            ]
          },
          "metadata": {
            "tags": []
          },
          "execution_count": 22
        }
      ]
    },
    {
      "cell_type": "markdown",
      "metadata": {
        "id": "d_0_N-8PWHym"
      },
      "source": [
        "##Preparing and cleaning the data"
      ]
    },
    {
      "cell_type": "code",
      "metadata": {
        "id": "YxdElb79WLrW"
      },
      "source": [
        "#Flag to distinguish between real and fake\n",
        "fake['target'] = 'fake'\n",
        "real['target'] = 'real'"
      ],
      "execution_count": 23,
      "outputs": []
    },
    {
      "cell_type": "code",
      "metadata": {
        "colab": {
          "base_uri": "https://localhost:8080/",
          "height": 202
        },
        "id": "MPCLMFHTWVHm",
        "outputId": "4c144db5-14e7-46f7-ea1b-c0fdb565ae0e"
      },
      "source": [
        "# Concatenating the dataframes\n",
        "data = pd.concat([fake, real]).reset_index(drop=True)\n",
        "data.shape\n",
        "\n",
        "# Shuffling the data\n",
        "from sklearn.utils import shuffle\n",
        "data = shuffle(data)\n",
        "data = data.reset_index(drop=True)\n",
        "\n",
        "data.head()"
      ],
      "execution_count": 24,
      "outputs": [
        {
          "output_type": "execute_result",
          "data": {
            "text/html": [
              "<div>\n",
              "<style scoped>\n",
              "    .dataframe tbody tr th:only-of-type {\n",
              "        vertical-align: middle;\n",
              "    }\n",
              "\n",
              "    .dataframe tbody tr th {\n",
              "        vertical-align: top;\n",
              "    }\n",
              "\n",
              "    .dataframe thead th {\n",
              "        text-align: right;\n",
              "    }\n",
              "</style>\n",
              "<table border=\"1\" class=\"dataframe\">\n",
              "  <thead>\n",
              "    <tr style=\"text-align: right;\">\n",
              "      <th></th>\n",
              "      <th>title</th>\n",
              "      <th>text</th>\n",
              "      <th>subject</th>\n",
              "      <th>date</th>\n",
              "      <th>target</th>\n",
              "    </tr>\n",
              "  </thead>\n",
              "  <tbody>\n",
              "    <tr>\n",
              "      <th>0</th>\n",
              "      <td>At least 4 dead after powerful Mexico quake: o...</td>\n",
              "      <td>MEXICO CITY (Reuters) - At least four people w...</td>\n",
              "      <td>worldnews</td>\n",
              "      <td>September 19, 2017</td>\n",
              "      <td>real</td>\n",
              "    </tr>\n",
              "    <tr>\n",
              "      <th>1</th>\n",
              "      <td>FORMER FBI ASSISTANT DIRECTOR on Anti-Trump FB...</td>\n",
              "      <td>WE COULDN T AGREE MORE! Former FBI Assistant D...</td>\n",
              "      <td>politics</td>\n",
              "      <td>Dec 16, 2017</td>\n",
              "      <td>fake</td>\n",
              "    </tr>\n",
              "    <tr>\n",
              "      <th>2</th>\n",
              "      <td>MEDIA ATTACKS TAYLOR SWIFT Over Refusal To Cri...</td>\n",
              "      <td>Tom Barnes mocks Taylor Swift in his latest ar...</td>\n",
              "      <td>politics</td>\n",
              "      <td>Jan 14, 2017</td>\n",
              "      <td>fake</td>\n",
              "    </tr>\n",
              "    <tr>\n",
              "      <th>3</th>\n",
              "      <td>British PM May's voice repeatedly fails in key...</td>\n",
              "      <td>MANCHESTER, England (Reuters) - British Prime ...</td>\n",
              "      <td>worldnews</td>\n",
              "      <td>October 4, 2017</td>\n",
              "      <td>real</td>\n",
              "    </tr>\n",
              "    <tr>\n",
              "      <th>4</th>\n",
              "      <td>CNN HAMMERS Kellyanne Conway For Lying About ...</td>\n",
              "      <td>Kellyanne Conway just got hammered with facts ...</td>\n",
              "      <td>News</td>\n",
              "      <td>February 6, 2017</td>\n",
              "      <td>fake</td>\n",
              "    </tr>\n",
              "  </tbody>\n",
              "</table>\n",
              "</div>"
            ],
            "text/plain": [
              "                                               title  ... target\n",
              "0  At least 4 dead after powerful Mexico quake: o...  ...   real\n",
              "1  FORMER FBI ASSISTANT DIRECTOR on Anti-Trump FB...  ...   fake\n",
              "2  MEDIA ATTACKS TAYLOR SWIFT Over Refusal To Cri...  ...   fake\n",
              "3  British PM May's voice repeatedly fails in key...  ...   real\n",
              "4   CNN HAMMERS Kellyanne Conway For Lying About ...  ...   fake\n",
              "\n",
              "[5 rows x 5 columns]"
            ]
          },
          "metadata": {
            "tags": []
          },
          "execution_count": 24
        }
      ]
    },
    {
      "cell_type": "code",
      "metadata": {
        "colab": {
          "base_uri": "https://localhost:8080/",
          "height": 202
        },
        "id": "STj3whDyWbF4",
        "outputId": "464e5f4c-e756-4d25-cb78-a5a7b66af47f"
      },
      "source": [
        "#Removing the date from the data\n",
        "data.drop([\"date\"],axis=1,inplace=True)\n",
        "data.head()"
      ],
      "execution_count": 25,
      "outputs": [
        {
          "output_type": "execute_result",
          "data": {
            "text/html": [
              "<div>\n",
              "<style scoped>\n",
              "    .dataframe tbody tr th:only-of-type {\n",
              "        vertical-align: middle;\n",
              "    }\n",
              "\n",
              "    .dataframe tbody tr th {\n",
              "        vertical-align: top;\n",
              "    }\n",
              "\n",
              "    .dataframe thead th {\n",
              "        text-align: right;\n",
              "    }\n",
              "</style>\n",
              "<table border=\"1\" class=\"dataframe\">\n",
              "  <thead>\n",
              "    <tr style=\"text-align: right;\">\n",
              "      <th></th>\n",
              "      <th>title</th>\n",
              "      <th>text</th>\n",
              "      <th>subject</th>\n",
              "      <th>target</th>\n",
              "    </tr>\n",
              "  </thead>\n",
              "  <tbody>\n",
              "    <tr>\n",
              "      <th>0</th>\n",
              "      <td>At least 4 dead after powerful Mexico quake: o...</td>\n",
              "      <td>MEXICO CITY (Reuters) - At least four people w...</td>\n",
              "      <td>worldnews</td>\n",
              "      <td>real</td>\n",
              "    </tr>\n",
              "    <tr>\n",
              "      <th>1</th>\n",
              "      <td>FORMER FBI ASSISTANT DIRECTOR on Anti-Trump FB...</td>\n",
              "      <td>WE COULDN T AGREE MORE! Former FBI Assistant D...</td>\n",
              "      <td>politics</td>\n",
              "      <td>fake</td>\n",
              "    </tr>\n",
              "    <tr>\n",
              "      <th>2</th>\n",
              "      <td>MEDIA ATTACKS TAYLOR SWIFT Over Refusal To Cri...</td>\n",
              "      <td>Tom Barnes mocks Taylor Swift in his latest ar...</td>\n",
              "      <td>politics</td>\n",
              "      <td>fake</td>\n",
              "    </tr>\n",
              "    <tr>\n",
              "      <th>3</th>\n",
              "      <td>British PM May's voice repeatedly fails in key...</td>\n",
              "      <td>MANCHESTER, England (Reuters) - British Prime ...</td>\n",
              "      <td>worldnews</td>\n",
              "      <td>real</td>\n",
              "    </tr>\n",
              "    <tr>\n",
              "      <th>4</th>\n",
              "      <td>CNN HAMMERS Kellyanne Conway For Lying About ...</td>\n",
              "      <td>Kellyanne Conway just got hammered with facts ...</td>\n",
              "      <td>News</td>\n",
              "      <td>fake</td>\n",
              "    </tr>\n",
              "  </tbody>\n",
              "</table>\n",
              "</div>"
            ],
            "text/plain": [
              "                                               title  ... target\n",
              "0  At least 4 dead after powerful Mexico quake: o...  ...   real\n",
              "1  FORMER FBI ASSISTANT DIRECTOR on Anti-Trump FB...  ...   fake\n",
              "2  MEDIA ATTACKS TAYLOR SWIFT Over Refusal To Cri...  ...   fake\n",
              "3  British PM May's voice repeatedly fails in key...  ...   real\n",
              "4   CNN HAMMERS Kellyanne Conway For Lying About ...  ...   fake\n",
              "\n",
              "[5 rows x 4 columns]"
            ]
          },
          "metadata": {
            "tags": []
          },
          "execution_count": 25
        }
      ]
    },
    {
      "cell_type": "code",
      "metadata": {
        "colab": {
          "base_uri": "https://localhost:8080/",
          "height": 202
        },
        "id": "Ytz_SSYNWez2",
        "outputId": "4d8586e6-7f00-4a02-fd68-9fd2c28c84df"
      },
      "source": [
        "#Removing the titles\n",
        "data.drop([\"title\"],axis=1,inplace=True)\n",
        "data.head()"
      ],
      "execution_count": 26,
      "outputs": [
        {
          "output_type": "execute_result",
          "data": {
            "text/html": [
              "<div>\n",
              "<style scoped>\n",
              "    .dataframe tbody tr th:only-of-type {\n",
              "        vertical-align: middle;\n",
              "    }\n",
              "\n",
              "    .dataframe tbody tr th {\n",
              "        vertical-align: top;\n",
              "    }\n",
              "\n",
              "    .dataframe thead th {\n",
              "        text-align: right;\n",
              "    }\n",
              "</style>\n",
              "<table border=\"1\" class=\"dataframe\">\n",
              "  <thead>\n",
              "    <tr style=\"text-align: right;\">\n",
              "      <th></th>\n",
              "      <th>text</th>\n",
              "      <th>subject</th>\n",
              "      <th>target</th>\n",
              "    </tr>\n",
              "  </thead>\n",
              "  <tbody>\n",
              "    <tr>\n",
              "      <th>0</th>\n",
              "      <td>MEXICO CITY (Reuters) - At least four people w...</td>\n",
              "      <td>worldnews</td>\n",
              "      <td>real</td>\n",
              "    </tr>\n",
              "    <tr>\n",
              "      <th>1</th>\n",
              "      <td>WE COULDN T AGREE MORE! Former FBI Assistant D...</td>\n",
              "      <td>politics</td>\n",
              "      <td>fake</td>\n",
              "    </tr>\n",
              "    <tr>\n",
              "      <th>2</th>\n",
              "      <td>Tom Barnes mocks Taylor Swift in his latest ar...</td>\n",
              "      <td>politics</td>\n",
              "      <td>fake</td>\n",
              "    </tr>\n",
              "    <tr>\n",
              "      <th>3</th>\n",
              "      <td>MANCHESTER, England (Reuters) - British Prime ...</td>\n",
              "      <td>worldnews</td>\n",
              "      <td>real</td>\n",
              "    </tr>\n",
              "    <tr>\n",
              "      <th>4</th>\n",
              "      <td>Kellyanne Conway just got hammered with facts ...</td>\n",
              "      <td>News</td>\n",
              "      <td>fake</td>\n",
              "    </tr>\n",
              "  </tbody>\n",
              "</table>\n",
              "</div>"
            ],
            "text/plain": [
              "                                                text    subject target\n",
              "0  MEXICO CITY (Reuters) - At least four people w...  worldnews   real\n",
              "1  WE COULDN T AGREE MORE! Former FBI Assistant D...   politics   fake\n",
              "2  Tom Barnes mocks Taylor Swift in his latest ar...   politics   fake\n",
              "3  MANCHESTER, England (Reuters) - British Prime ...  worldnews   real\n",
              "4  Kellyanne Conway just got hammered with facts ...       News   fake"
            ]
          },
          "metadata": {
            "tags": []
          },
          "execution_count": 26
        }
      ]
    },
    {
      "cell_type": "code",
      "metadata": {
        "colab": {
          "base_uri": "https://localhost:8080/",
          "height": 202
        },
        "id": "pQLXvsrlWgUf",
        "outputId": "f404dcfe-7d0b-4963-85f4-c7bb1b9aae10"
      },
      "source": [
        "#Converting to lowercase\n",
        "data['text'] = data['text'].apply(lambda x: x.lower())\n",
        "data.head()"
      ],
      "execution_count": 27,
      "outputs": [
        {
          "output_type": "execute_result",
          "data": {
            "text/html": [
              "<div>\n",
              "<style scoped>\n",
              "    .dataframe tbody tr th:only-of-type {\n",
              "        vertical-align: middle;\n",
              "    }\n",
              "\n",
              "    .dataframe tbody tr th {\n",
              "        vertical-align: top;\n",
              "    }\n",
              "\n",
              "    .dataframe thead th {\n",
              "        text-align: right;\n",
              "    }\n",
              "</style>\n",
              "<table border=\"1\" class=\"dataframe\">\n",
              "  <thead>\n",
              "    <tr style=\"text-align: right;\">\n",
              "      <th></th>\n",
              "      <th>text</th>\n",
              "      <th>subject</th>\n",
              "      <th>target</th>\n",
              "    </tr>\n",
              "  </thead>\n",
              "  <tbody>\n",
              "    <tr>\n",
              "      <th>0</th>\n",
              "      <td>mexico city (reuters) - at least four people w...</td>\n",
              "      <td>worldnews</td>\n",
              "      <td>real</td>\n",
              "    </tr>\n",
              "    <tr>\n",
              "      <th>1</th>\n",
              "      <td>we couldn t agree more! former fbi assistant d...</td>\n",
              "      <td>politics</td>\n",
              "      <td>fake</td>\n",
              "    </tr>\n",
              "    <tr>\n",
              "      <th>2</th>\n",
              "      <td>tom barnes mocks taylor swift in his latest ar...</td>\n",
              "      <td>politics</td>\n",
              "      <td>fake</td>\n",
              "    </tr>\n",
              "    <tr>\n",
              "      <th>3</th>\n",
              "      <td>manchester, england (reuters) - british prime ...</td>\n",
              "      <td>worldnews</td>\n",
              "      <td>real</td>\n",
              "    </tr>\n",
              "    <tr>\n",
              "      <th>4</th>\n",
              "      <td>kellyanne conway just got hammered with facts ...</td>\n",
              "      <td>News</td>\n",
              "      <td>fake</td>\n",
              "    </tr>\n",
              "  </tbody>\n",
              "</table>\n",
              "</div>"
            ],
            "text/plain": [
              "                                                text    subject target\n",
              "0  mexico city (reuters) - at least four people w...  worldnews   real\n",
              "1  we couldn t agree more! former fbi assistant d...   politics   fake\n",
              "2  tom barnes mocks taylor swift in his latest ar...   politics   fake\n",
              "3  manchester, england (reuters) - british prime ...  worldnews   real\n",
              "4  kellyanne conway just got hammered with facts ...       News   fake"
            ]
          },
          "metadata": {
            "tags": []
          },
          "execution_count": 27
        }
      ]
    },
    {
      "cell_type": "code",
      "metadata": {
        "colab": {
          "base_uri": "https://localhost:8080/",
          "height": 202
        },
        "id": "9CLDpOAlWswD",
        "outputId": "ba764b1d-944b-47e5-f8dc-cc197977f2a5"
      },
      "source": [
        "#Removing punctuation\n",
        "import string\n",
        "\n",
        "def punctuation_removal(text):\n",
        "    all_list = [char for char in text if char not in string.punctuation]\n",
        "    clean_str = ''.join(all_list)\n",
        "    return clean_str\n",
        "\n",
        "data['text'] = data['text'].apply(punctuation_removal)\n",
        "data.head()"
      ],
      "execution_count": 28,
      "outputs": [
        {
          "output_type": "execute_result",
          "data": {
            "text/html": [
              "<div>\n",
              "<style scoped>\n",
              "    .dataframe tbody tr th:only-of-type {\n",
              "        vertical-align: middle;\n",
              "    }\n",
              "\n",
              "    .dataframe tbody tr th {\n",
              "        vertical-align: top;\n",
              "    }\n",
              "\n",
              "    .dataframe thead th {\n",
              "        text-align: right;\n",
              "    }\n",
              "</style>\n",
              "<table border=\"1\" class=\"dataframe\">\n",
              "  <thead>\n",
              "    <tr style=\"text-align: right;\">\n",
              "      <th></th>\n",
              "      <th>text</th>\n",
              "      <th>subject</th>\n",
              "      <th>target</th>\n",
              "    </tr>\n",
              "  </thead>\n",
              "  <tbody>\n",
              "    <tr>\n",
              "      <th>0</th>\n",
              "      <td>mexico city reuters  at least four people were...</td>\n",
              "      <td>worldnews</td>\n",
              "      <td>real</td>\n",
              "    </tr>\n",
              "    <tr>\n",
              "      <th>1</th>\n",
              "      <td>we couldn t agree more former fbi assistant di...</td>\n",
              "      <td>politics</td>\n",
              "      <td>fake</td>\n",
              "    </tr>\n",
              "    <tr>\n",
              "      <th>2</th>\n",
              "      <td>tom barnes mocks taylor swift in his latest ar...</td>\n",
              "      <td>politics</td>\n",
              "      <td>fake</td>\n",
              "    </tr>\n",
              "    <tr>\n",
              "      <th>3</th>\n",
              "      <td>manchester england reuters  british prime mini...</td>\n",
              "      <td>worldnews</td>\n",
              "      <td>real</td>\n",
              "    </tr>\n",
              "    <tr>\n",
              "      <th>4</th>\n",
              "      <td>kellyanne conway just got hammered with facts ...</td>\n",
              "      <td>News</td>\n",
              "      <td>fake</td>\n",
              "    </tr>\n",
              "  </tbody>\n",
              "</table>\n",
              "</div>"
            ],
            "text/plain": [
              "                                                text    subject target\n",
              "0  mexico city reuters  at least four people were...  worldnews   real\n",
              "1  we couldn t agree more former fbi assistant di...   politics   fake\n",
              "2  tom barnes mocks taylor swift in his latest ar...   politics   fake\n",
              "3  manchester england reuters  british prime mini...  worldnews   real\n",
              "4  kellyanne conway just got hammered with facts ...       News   fake"
            ]
          },
          "metadata": {
            "tags": []
          },
          "execution_count": 28
        }
      ]
    },
    {
      "cell_type": "code",
      "metadata": {
        "colab": {
          "base_uri": "https://localhost:8080/",
          "height": 237
        },
        "id": "cem3LrYmWx1u",
        "outputId": "4820fd69-99ef-4912-8181-727ae6077fb5"
      },
      "source": [
        "#Removing stopwords\n",
        "import nltk\n",
        "nltk.download('stopwords')\n",
        "from nltk.corpus import stopwords\n",
        "stop = stopwords.words('english')\n",
        "\n",
        "data['text'] = data['text'].apply(lambda x: ' '.join([word for word in x.split() if word not in (stop)]))\n",
        "\n",
        "data.head()"
      ],
      "execution_count": 29,
      "outputs": [
        {
          "output_type": "stream",
          "text": [
            "[nltk_data] Downloading package stopwords to /root/nltk_data...\n",
            "[nltk_data]   Package stopwords is already up-to-date!\n"
          ],
          "name": "stdout"
        },
        {
          "output_type": "execute_result",
          "data": {
            "text/html": [
              "<div>\n",
              "<style scoped>\n",
              "    .dataframe tbody tr th:only-of-type {\n",
              "        vertical-align: middle;\n",
              "    }\n",
              "\n",
              "    .dataframe tbody tr th {\n",
              "        vertical-align: top;\n",
              "    }\n",
              "\n",
              "    .dataframe thead th {\n",
              "        text-align: right;\n",
              "    }\n",
              "</style>\n",
              "<table border=\"1\" class=\"dataframe\">\n",
              "  <thead>\n",
              "    <tr style=\"text-align: right;\">\n",
              "      <th></th>\n",
              "      <th>text</th>\n",
              "      <th>subject</th>\n",
              "      <th>target</th>\n",
              "    </tr>\n",
              "  </thead>\n",
              "  <tbody>\n",
              "    <tr>\n",
              "      <th>0</th>\n",
              "      <td>mexico city reuters least four people killed p...</td>\n",
              "      <td>worldnews</td>\n",
              "      <td>real</td>\n",
              "    </tr>\n",
              "    <tr>\n",
              "      <th>1</th>\n",
              "      <td>agree former fbi assistant director james kall...</td>\n",
              "      <td>politics</td>\n",
              "      <td>fake</td>\n",
              "    </tr>\n",
              "    <tr>\n",
              "      <th>2</th>\n",
              "      <td>tom barnes mocks taylor swift latest article w...</td>\n",
              "      <td>politics</td>\n",
              "      <td>fake</td>\n",
              "    </tr>\n",
              "    <tr>\n",
              "      <th>3</th>\n",
              "      <td>manchester england reuters british prime minis...</td>\n",
              "      <td>worldnews</td>\n",
              "      <td>real</td>\n",
              "    </tr>\n",
              "    <tr>\n",
              "      <th>4</th>\n",
              "      <td>kellyanne conway got hammered facts cnn lied n...</td>\n",
              "      <td>News</td>\n",
              "      <td>fake</td>\n",
              "    </tr>\n",
              "  </tbody>\n",
              "</table>\n",
              "</div>"
            ],
            "text/plain": [
              "                                                text    subject target\n",
              "0  mexico city reuters least four people killed p...  worldnews   real\n",
              "1  agree former fbi assistant director james kall...   politics   fake\n",
              "2  tom barnes mocks taylor swift latest article w...   politics   fake\n",
              "3  manchester england reuters british prime minis...  worldnews   real\n",
              "4  kellyanne conway got hammered facts cnn lied n...       News   fake"
            ]
          },
          "metadata": {
            "tags": []
          },
          "execution_count": 29
        }
      ]
    },
    {
      "cell_type": "markdown",
      "metadata": {
        "id": "1bk9ecmgXHDU"
      },
      "source": [
        "##Exploring the data"
      ]
    },
    {
      "cell_type": "code",
      "metadata": {
        "colab": {
          "base_uri": "https://localhost:8080/",
          "height": 421
        },
        "id": "9feWx5shXFIg",
        "outputId": "133b6ee5-374b-4b65-ec8e-bdfa07c3be23"
      },
      "source": [
        "#Number of articles per subject\n",
        "print(data.groupby(['subject'])['text'].count())\n",
        "data.groupby(['subject'])['text'].count().plot(kind=\"pie\")\n",
        "plt.show()"
      ],
      "execution_count": 30,
      "outputs": [
        {
          "output_type": "stream",
          "text": [
            "subject\n",
            "Government News     1570\n",
            "Middle-east          778\n",
            "News                9050\n",
            "US_News              783\n",
            "left-news           4459\n",
            "politics            6841\n",
            "politicsNews       11272\n",
            "worldnews          10145\n",
            "Name: text, dtype: int64\n"
          ],
          "name": "stdout"
        },
        {
          "output_type": "display_data",
          "data": {
            "image/png": "[encoded data removed]",
            "text/plain": [
              "<Figure size 432x288 with 1 Axes>"
            ]
          },
          "metadata": {
            "tags": []
          }
        }
      ]
    },
    {
      "cell_type": "code",
      "metadata": {
        "colab": {
          "base_uri": "https://localhost:8080/",
          "height": 361
        },
        "id": "1mXgF5GrXMsx",
        "outputId": "16976a27-b19f-4c6b-ba75-37f20a2ba167"
      },
      "source": [
        "#Number of fake and real articles\n",
        "print(data.groupby(['target'])['text'].count())\n",
        "data.groupby(['target'])['text'].count().plot(kind=\"bar\")\n",
        "plt.show()"
      ],
      "execution_count": 31,
      "outputs": [
        {
          "output_type": "stream",
          "text": [
            "target\n",
            "fake    23481\n",
            "real    21417\n",
            "Name: text, dtype: int64\n"
          ],
          "name": "stdout"
        },
        {
          "output_type": "display_data",
          "data": {
            "image/png": "[encoded data removed]",
            "text/plain": [
              "<Figure size 432x288 with 1 Axes>"
            ]
          },
          "metadata": {
            "tags": [],
            "needs_background": "light"
          }
        }
      ]
    },
    {
      "cell_type": "code",
      "metadata": {
        "id": "TMuxWP6YXT92"
      },
      "source": [
        "#Counting the most frequently occuring words   \n",
        "from nltk import tokenize\n",
        "\n",
        "token_space = tokenize.WhitespaceTokenizer()\n",
        "\n",
        "def counter(text, column_text, quantity):\n",
        "    all_words = ' '.join([text for text in text[column_text]])\n",
        "    token_phrase = token_space.tokenize(all_words)\n",
        "    frequency = nltk.FreqDist(token_phrase)\n",
        "    df_frequency = pd.DataFrame({\"Word\": list(frequency.keys()), \"Frequency\": list(frequency.values())})\n",
        "    df_frequency = df_frequency.nlargest(columns = \"Frequency\", n = quantity)\n",
        "    plt.figure(figsize=(12,8))\n",
        "    ax = sns.barplot(data = df_frequency, x = \"Word\", y = \"Frequency\", color = 'red')\n",
        "    ax.set(ylabel = \"Count\")\n",
        "    plt.xticks(rotation='vertical')\n",
        "    plt.show()"
      ],
      "execution_count": 34,
      "outputs": []
    },
    {
      "cell_type": "code",
      "metadata": {
        "colab": {
          "base_uri": "https://localhost:8080/",
          "height": 534
        },
        "id": "bRBbedJIXXj7",
        "outputId": "c9de1277-a1c0-4ef0-b860-4e3bb9e4f006"
      },
      "source": [
        "# Most frequently occuring words in FAKE news\n",
        "counter(data[data[\"target\"] == \"fake\"], \"text\", 20)"
      ],
      "execution_count": 33,
      "outputs": [
        {
          "output_type": "display_data",
          "data": {
            "image/png": "[encoded data removed]",
            "text/plain": [
              "<Figure size 864x576 with 1 Axes>"
            ]
          },
          "metadata": {
            "tags": [],
            "needs_background": "light"
          }
        }
      ]
    },
    {
      "cell_type": "code",
      "metadata": {
        "colab": {
          "base_uri": "https://localhost:8080/",
          "height": 548
        },
        "id": "aF7KnCW2XZNj",
        "outputId": "80d313f7-6c47-48c3-ff64-ae6cdf090b02"
      },
      "source": [
        "# Most frequently occurring words in REAL news\n",
        "counter(data[data[\"target\"] == \"real\"], \"text\", 20)"
      ],
      "execution_count": 35,
      "outputs": [
        {
          "output_type": "display_data",
          "data": {
            "image/png": "[encoded data removed]",
            "text/plain": [
              "<Figure size 864x576 with 1 Axes>"
            ]
          },
          "metadata": {
            "tags": [],
            "needs_background": "light"
          }
        }
      ]
    },
    {
      "cell_type": "code",
      "metadata": {
        "colab": {
          "base_uri": "https://localhost:8080/"
        },
        "id": "PyjGBW7Jx1q8",
        "outputId": "5c1a0d9d-26d9-4d76-dec0-be36449024ee"
      },
      "source": [
        "#Vectorizing and applying TF-IDF\n",
        "X_train,X_test,y_train,y_test = train_test_split(data['text'], data.target, test_size=0.8, random_state=45)\n",
        "from sklearn.linear_model import LogisticRegression\n",
        "\n",
        "pipe = Pipeline([('vect', CountVectorizer()),\n",
        "                 ('tfidf', TfidfTransformer()),\n",
        "                 ('model', LogisticRegression())])\n",
        "\n",
        "#Fitting the model\n",
        "model = pipe.fit(X_train, y_train)\n",
        "\n",
        "#Accuracy\n",
        "prediction = model.predict(X_test)\n",
        "print(\"Model Accuracy: {}%\".format(round(accuracy_score(y_test, prediction)*100,2)))"
      ],
      "execution_count": 36,
      "outputs": [
        {
          "output_type": "stream",
          "text": [
            "Model Accuracy: 97.64%\n"
          ],
          "name": "stdout"
        }
      ]
    }
  ]
}